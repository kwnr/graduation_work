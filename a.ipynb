{
 "cells": [
  {
   "cell_type": "code",
   "execution_count": 1,
   "metadata": {},
   "outputs": [],
   "source": [
    "from scipy.spatial.transform import Rotation as R\n",
    "import numpy as np\n",
    "import cv2\n",
    "import matplotlib.pyplot as plt"
   ]
  },
  {
   "cell_type": "code",
   "execution_count": 16,
   "metadata": {},
   "outputs": [],
   "source": [
    "v=np.array([0,0,1])"
   ]
  },
  {
   "cell_type": "code",
   "execution_count": 26,
   "metadata": {},
   "outputs": [
    {
     "data": {
      "text/plain": [
       "array([[ 8.66025404e-01,  2.50000000e-01,  4.33012702e-01],\n",
       "       [-1.38777878e-17,  8.66025404e-01, -5.00000000e-01],\n",
       "       [-5.00000000e-01,  4.33012702e-01,  7.50000000e-01]])"
      ]
     },
     "execution_count": 26,
     "metadata": {},
     "output_type": "execute_result"
    }
   ],
   "source": [
    "r=R.from_euler('xyz',[30,30,0],degrees=True)\n",
    "r.as_matrix()"
   ]
  },
  {
   "cell_type": "code",
   "execution_count": 27,
   "metadata": {},
   "outputs": [],
   "source": [
    "\n",
    "a,b,g=0,0,0\n",
    "def rot_mat(a,b,g):\n",
    "    a,b,g=np.deg2rad([a,b,g])\n",
    "    m=np.array(\n",
    "        [[np.cos(b)*np.cos(g),np.sin(a)*np.sin(b)*np.cos(g)-np.cos(a)*np.sin(g),np.cos(a)*np.sin(b)*np.cos(g)+np.sin(a)*np.sin(g)],\n",
    "         [np.cos(b)*np.sin(g),np.sin(a)*np.sin(b)*np.cos(g)+np.cos(a)*np.sin(g),np.cos(a)*np.sin(b)*np.sin(g)-np.sin(a)*np.cos(g)],\n",
    "         [-np.sin(b),np.sin(a)*np.cos(b),np.cos(a)*np.sin(b)]\n",
    "         ])\n",
    "    return m"
   ]
  },
  {
   "cell_type": "code",
   "execution_count": 33,
   "metadata": {},
   "outputs": [
    {
     "data": {
      "text/plain": [
       "array([0., 0., 0.])"
      ]
     },
     "execution_count": 33,
     "metadata": {},
     "output_type": "execute_result"
    }
   ],
   "source": [
    "\n",
    "rot_mat(0,0,0).dot(v.T)"
   ]
  },
  {
   "cell_type": "code",
   "execution_count": 30,
   "metadata": {},
   "outputs": [
    {
     "data": {
      "text/plain": [
       "0.36602540400000005"
      ]
     },
     "execution_count": 30,
     "metadata": {},
     "output_type": "execute_result"
    }
   ],
   "source": [
    "8.66025404e-01-0.5"
   ]
  }
 ],
 "metadata": {
  "kernelspec": {
   "display_name": "grad_design",
   "language": "python",
   "name": "python3"
  },
  "language_info": {
   "codemirror_mode": {
    "name": "ipython",
    "version": 3
   },
   "file_extension": ".py",
   "mimetype": "text/x-python",
   "name": "python",
   "nbconvert_exporter": "python",
   "pygments_lexer": "ipython3",
   "version": "3.11.3"
  },
  "orig_nbformat": 4
 },
 "nbformat": 4,
 "nbformat_minor": 2
}
