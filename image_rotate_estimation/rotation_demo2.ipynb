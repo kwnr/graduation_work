{
 "cells": [
  {
   "cell_type": "code",
   "execution_count": 1,
   "metadata": {},
   "outputs": [],
   "source": [
    "import matplotlib.pyplot as plt\n",
    "import numpy as np\n",
    "from scipy.spatial.transform import Rotation as R"
   ]
  },
  {
   "cell_type": "code",
   "execution_count": 2,
   "metadata": {},
   "outputs": [],
   "source": [
    "def find_angle_vector(a,b):\n",
    "    v1=a[:1]\n",
    "    v2=b[:1]\n",
    "    theta=np.arccos(np.dot(v1,v2)/(np.sqrt(np.sum(np.square(v1)))*np.sqrt(np.sum(np.square(v1)))))\n",
    "    theta=np.rad2deg(theta)\n",
    "    return theta"
   ]
  },
  {
   "cell_type": "code",
   "execution_count": 15,
   "metadata": {},
   "outputs": [],
   "source": [
    "v1=[10,0,0]\n",
    "v2=[0,10,0]"
   ]
  },
  {
   "cell_type": "code",
   "execution_count": 25,
   "metadata": {},
   "outputs": [],
   "source": [
    "def pipeline(r):\n",
    "    v1=[10,0,0]\n",
    "    v2=[0,10,0]\n",
    "    \n",
    "    v1=r.apply(v1)\n",
    "    v2=r.apply(v2)\n",
    "    \n",
    "    theta=find_angle_vector(v1,v2)\n",
    "    \n",
    "    V=np.array([v1[:2],v2[:2]])\n",
    "    o=np.zeros_like(V)\n",
    "    plt.quiver(*o,V[:,0],V[:,1],color=['r','g','b'],scale=50)\n",
    "    plt.show()\n",
    "    \n",
    "    dist1=np.sqrt(np.sum(np.square(v1[:2])))\n",
    "    dist2=np.sqrt(np.sum(np.square(v2[:2])))\n",
    "    \n",
    "    print(f'1: {dist1}, 2: {dist2}')\n",
    "    print(f'theta: {theta}')\n",
    "    "
   ]
  },
  {
   "cell_type": "code",
   "execution_count": 40,
   "metadata": {},
   "outputs": [
    {
     "data": {
      "image/png": "[encoded data removed]",
      "text/plain": [
       "<Figure size 640x480 with 1 Axes>"
      ]
     },
     "metadata": {},
     "output_type": "display_data"
    },
    {
     "name": "stdout",
     "output_type": "stream",
     "text": [
      "1: 8.090169943749473, 2: 7.135254915624211\n",
      "theta: 51.00855941725995\n"
     ]
    }
   ],
   "source": [
    "euler=[np.pi/3,np.pi/5,0]\n",
    "r=R.from_euler('xyz',euler,degrees=False)\n",
    "pipeline(r)"
   ]
  },
  {
   "cell_type": "code",
   "execution_count": null,
   "metadata": {},
   "outputs": [],
   "source": [
    "euler[1]"
   ]
  },
  {
   "cell_type": "code",
   "execution_count": null,
   "metadata": {},
   "outputs": [],
   "source": []
  }
 ],
 "metadata": {
  "kernelspec": {
   "display_name": "Python 3",
   "language": "python",
   "name": "python3"
  },
  "language_info": {
   "codemirror_mode": {
    "name": "ipython",
    "version": 3
   },
   "file_extension": ".py",
   "mimetype": "text/x-python",
   "name": "python",
   "nbconvert_exporter": "python",
   "pygments_lexer": "ipython3",
   "version": "3.11.0"
  },
  "orig_nbformat": 4
 },
 "nbformat": 4,
 "nbformat_minor": 2
}
